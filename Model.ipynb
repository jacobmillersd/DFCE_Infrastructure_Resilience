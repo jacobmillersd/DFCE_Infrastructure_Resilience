{
 "cells": [
  {
   "cell_type": "code",
   "execution_count": 16,
   "metadata": {
    "id": "ubwwupk02LS4"
   },
   "outputs": [],
   "source": [
    "import numpy as n\n",
    "import openpyxl\n",
    "from scipy.stats import binom\n",
    "import math"
   ]
  },
  {
   "cell_type": "code",
   "execution_count": 17,
   "metadata": {
    "id": "UlpocS2i2PQW"
   },
   "outputs": [],
   "source": [
    "## Import PoF and Failure Time\n",
    "def Update():\n",
    "  # Model_List must be imported every time\n",
    "  data = openpyxl.load_workbook(\"Model_List.xlsx\")\n",
    "  read_data = data.active\n",
    "  Probability = []\n",
    "  Fail_Time = []\n",
    "  for row in range(1, read_data.max_row):\n",
    "      for col in read_data.iter_cols(2,2):\n",
    "        Probability.append(col[row].value)\n",
    "  for row in range(1, read_data.max_row):\n",
    "      for col in read_data.iter_cols(3,3):\n",
    "        Fail_Time.append(col[row].value)\n",
    "  Probability = [0.99931506849315, 0.999868149, 0.999868149, 0.999868149, 0.999868149, 1, 1, 1, 1, 0.999996546, 0.999996546, 1, 1, 1, 1, 0.999994046, 0.999994046, 0.9999, 0.999996546, 1, 1, 0.999982209, 0.9999, 0.9999, 0.9999, 0.999982209, 0.999982209, 0.9999, 0.999982209, 0.999982209, 0.999247479 , 0.999897429, 0.999247479 , 0.999897429, 0.999247479 , 0.999897429, 1, 0.999312485, 0.999312485, 0.999312485, 0.999312485, 0.999312485, 0.999312485, 0.999897429, 0.999897429, 0.999989539, 0.999897429, 0.999897429, 0.999875595, 0.999875595]\n",
    "  return [Probability, Fail_Time]\n"
   ]
  },
  {
   "cell_type": "code",
   "execution_count": 25,
   "metadata": {
    "id": "Ae_hLPFKpUGM"
   },
   "outputs": [],
   "source": [
    "## import weibull distro\n",
    "from scipy.stats import weibull_min\n",
    "\n",
    "## tests using Weibull distro\n",
    "# def test(Probability):\n",
    "#   return weibull_min.rvs(Probability,1)\n",
    "\n",
    "## Tests each probability given a binomial distribution\n",
    "def test(Probability):\n",
    "  return binom.rvs(1,Probability)\n"
   ]
  },
  {
   "cell_type": "code",
   "execution_count": 26,
   "metadata": {
    "id": "b9okFhisF_62"
   },
   "outputs": [],
   "source": [
    "## Tests the Electrical side of the model. This is checked before HVAC.\n",
    "def Failure_Elec(PoF,Carry):\n",
    "  # 1,2,3,4 are the generators, only 2 are needed\n",
    "  if(PoF == 1 or PoF == 2 or PoF == 3 or PoF == 4):\n",
    "    # Checks if there are 3 gens that fail\n",
    "    if (Carry[1] + Carry[2] + Carry[3] + Carry[4]) == 3:\n",
    "      Carry[PoF] += 1\n",
    "      return [0,Carry]\n",
    "    # If less than 2 fail, increases the carry\n",
    "    Carry[PoF] += 1\n",
    "    return [1,Carry]\n",
    "  # Checks the busses, only one needed, same process as gens\n",
    "  elif(PoF == 5 or PoF == 6):\n",
    "    if (Carry[5] or Carry[6]) == 1:\n",
    "      Carry[PoF] += 1\n",
    "      return [0,Carry]\n",
    "    Carry[PoF] += 1\n",
    "    return [1,Carry]\n",
    "  # Checks UPS, only one needed\n",
    "  elif(PoF == 7 or PoF == 8):\n",
    "    if (Carry[7] or Carry[8]) == 1:\n",
    "      Carry[PoF] += 1\n",
    "      return [0,Carry]\n",
    "    Carry[PoF] += 1\n",
    "    return [1,Carry]\n",
    "  # If none of the components are those listed above, there is no exception\n",
    "  # therefor they fail\n",
    "  else:\n",
    "    return [0,Carry]"
   ]
  },
  {
   "cell_type": "code",
   "execution_count": 27,
   "metadata": {
    "id": "3Yu7zyD9p0Sj"
   },
   "outputs": [],
   "source": [
    "# Checks HVAC side, same as electrical]\n",
    "def Failure_HVAC(PoF,Carry):\n",
    "  # Check for Watertowers\n",
    "  if(PoF == 30 or PoF == 32 or PoF == 34):\n",
    "    Carry[PoF] += 1\n",
    "    return [1,Carry]\n",
    "  # Checks Pumps\n",
    "  elif(PoF == 31 or PoF == 33 or PoF == 35):\n",
    "    Carry[PoF] += 1\n",
    "    # Checks if those pumps that are connected to water towers are down together\n",
    "    if((Carry[30]==0 and Carry[31]==0) or (Carry[32]==0 and Carry[33]==0)\n",
    "      or (Carry[34]==0 and Carry[35]==0)):\n",
    "      return [1,Carry]\n",
    "    return [0,Carry]\n",
    "  # Checks Direct Chillers\n",
    "  elif(PoF == 40 or PoF == 37 or PoF == 38 or PoF == 39):\n",
    "    if (Carry[40] + Carry[37] + Carry[38] + Carry[39]) == 4:\n",
    "      Carry[PoF] += 1\n",
    "      return [0,Carry]\n",
    "    Carry[PoF] += 1\n",
    "    return [1,Carry]\n",
    "  # Checks Backup Chillers\n",
    "  elif(PoF == 41 or PoF == 42):\n",
    "    if (Carry[41] or Carry[42]) == 1:\n",
    "      Carry[PoF] += 1\n",
    "      return [0,Carry]\n",
    "    Carry[PoF] += 1\n",
    "    return [1,Carry]\n",
    "  # Checks CRAH's\n",
    "  elif(PoF ==\"48\" or PoF==\"49\"):\n",
    "    if (Carry[48] or Carry[49]) == 1:\n",
    "      Carry[PoF] += 1\n",
    "      return [0,Carry]\n",
    "    Carry[PoF] += 1\n",
    "    return [1,Carry]\n",
    "  else:\n",
    "    return [0,Carry]"
   ]
  },
  {
   "cell_type": "code",
   "execution_count": 28,
   "metadata": {
    "id": "_0R4z2mAh7JR"
   },
   "outputs": [],
   "source": [
    "## Runs the Simulation\n",
    "def Simulation():\n",
    "  # Allows for the import of the list of PoF and Failtime\n",
    "  pull = Update()\n",
    "  Prob = pull[0]\n",
    "  Fail_Time = pull[1]\n",
    "  # Sets the hour\n",
    "  hour = 0\n",
    "  # Sets the list for each hour\n",
    "  Year_Output = []\n",
    "  # Creates an empty list with the amount of components to count failures\n",
    "  Fail_List = [0]*len(Prob)\n",
    "  while hour < (24*365):\n",
    "    i = 0\n",
    "    test_mult = 1\n",
    "    elec_mult = 0\n",
    "    Comp_Test=[]\n",
    "    # Tests every component and adds them to the Comp_Test list\n",
    "    while i < len(Prob):\n",
    "      temp = test(Prob[i])\n",
    "      Comp_Test.append(temp)\n",
    "      test_mult *= temp\n",
    "      # Does the comp for only electrical\n",
    "      if i == 29:\n",
    "        elec_mult = test_mult\n",
    "      i+=1\n",
    "    # If every component passes, passes the hour\n",
    "    if test_mult == 1 :\n",
    "      Year_Output.extend([1])\n",
    "      hour+=1\n",
    "    else:\n",
    "      # Sees if positions need to be skipped\n",
    "      if (Comp_Test[0] == 1):\n",
    "        # If all electrical is good, start with HVAC\n",
    "        if elec_mult == 1:\n",
    "          i = 29\n",
    "        # Else, start after gens since com power is good\n",
    "        else:\n",
    "          i = 5\n",
    "      # If Com Power is down, start with Com Power\n",
    "      else:\n",
    "        i = 0\n",
    "      Fail_Carry = [0]*len(Prob)\n",
    "      # Tests Electrical slide, last lectrical comp is 29\n",
    "      while i < 30:\n",
    "        # Does comp Fail\n",
    "        if Comp_Test[i] == 0:\n",
    "          temp = Fail_List[i]\n",
    "          Fail_List[i] = temp + 1\n",
    "          con = Failure_Elec(i,Fail_Carry)\n",
    "          # Gets info from Failure_Elec and sees if failed\n",
    "          if (con[0] == 0 and i!=0):\n",
    "            Year_Output.extend([0]*Fail_Time[i])\n",
    "            hour += Fail_Time[i]\n",
    "            i = 30\n",
    "          # Keeps the carry and continues\n",
    "          else:\n",
    "            Fail_Carry = con[1]\n",
    "        i += 1\n",
    "        # Catches loop if all comps work, starting with 30\n",
    "        if i == 30:\n",
    "          while i < (len(Prob)):\n",
    "            if Comp_Test[i] == 0:\n",
    "              temp = Fail_List[i]\n",
    "              Fail_List[i] = temp + 1\n",
    "              con = Failure_HVAC(i,Fail_Carry)\n",
    "              if (con[0] == 0):\n",
    "                Year_Output.extend([0]*Fail_Time[i])\n",
    "                hour += Fail_Time[i]\n",
    "                i = 49\n",
    "              else:\n",
    "                Fail_Carry = con[1]\n",
    "            i+=1\n",
    "  # Returns the Total amount of hours passed in a year and the list of fails\n",
    "  return [sum(Year_Output) , Fail_List]\n"
   ]
  },
  {
   "cell_type": "code",
   "execution_count": 29,
   "metadata": {
    "id": "oZY_mBt88_MD"
   },
   "outputs": [],
   "source": [
    "from numpy.polynomial.polynomial import polyval3d\n",
    "def run_multi(years):\n",
    "  i = 0\n",
    "  Output = 0\n",
    "  List = []\n",
    "  while i < years:\n",
    "    temp = Simulation()\n",
    "    Output = Output + temp[0]\n",
    "    List.append(temp[1])\n",
    "    i+=1\n",
    "  Fail_List = [0]*50\n",
    "  for row in range(years):\n",
    "    for col in range(len(Fail_List)):\n",
    "      temp = Fail_List[col]\n",
    "      Fail_List[col] = temp + List[row][col]/years\n",
    "  Output = (Output*100)/(years*24*365)\n",
    "  print(\"The sytem is up \" + str(Output) + \"% of the time\")\n",
    "  return Fail_List\n",
    " \n",
    "  \n",
    "  \n",
    " \n",
    " "
   ]
  },
  {
   "cell_type": "code",
   "execution_count": 30,
   "metadata": {},
   "outputs": [],
   "source": [
    "def create_t(List):\n",
    " Final_Fail = []\n",
    " data = openpyxl.load_workbook(\"Model_List.xlsx\")\n",
    " read_data = data.active\n",
    " i = -1\n",
    " for row in range(1, read_data.max_row):\n",
    "     i +=1\n",
    "     for col in read_data.iter_cols(1,1):\n",
    "        temp_name = col[row].value\n",
    "        Final_Fail.append([List[i],temp_name])\n",
    "        if(i == 49):\n",
    "            return Final_Fail"
   ]
  },
  {
   "cell_type": "code",
   "execution_count": 31,
   "metadata": {
    "colab": {
     "base_uri": "https://localhost:8080/"
    },
    "id": "0G9QO2QG_lkf",
    "outputId": "905de31e-1ee2-45cf-a888-36db7ab9d6e2"
   },
   "outputs": [
    {
     "name": "stdout",
     "output_type": "stream",
     "text": [
      "The sytem is up 99.45205479452055% of the time\n",
      " Fail\n",
      "Amount     Name\n",
      "[8.0, 'Chiller 3']\n",
      "[7.0, 'Chiller 5']\n",
      "[6.0, 'Chiller 2']\n"
     ]
    }
   ],
   "source": [
    "Fail_List = run_multi(1)\n",
    "Fail_Tup = create_t(Fail_List)\n",
    "\n",
    "# Number of comps to be displayed\n",
    "i = 3\n",
    "print(\" Fail\")\n",
    "print(\"Amount     Name\")\n",
    "while i > 0:\n",
    "    temp = max(Fail_Tup)\n",
    "    print(temp)\n",
    "    Fail_Tup.remove(temp)\n",
    "    i-=1\n"
   ]
  },
  {
   "cell_type": "code",
   "execution_count": null,
   "metadata": {},
   "outputs": [],
   "source": []
  },
  {
   "cell_type": "code",
   "execution_count": null,
   "metadata": {},
   "outputs": [],
   "source": []
  }
 ],
 "metadata": {
  "colab": {
   "provenance": []
  },
  "kernelspec": {
   "display_name": "Python 3 (ipykernel)",
   "language": "python",
   "name": "python3"
  },
  "language_info": {
   "codemirror_mode": {
    "name": "ipython",
    "version": 3
   },
   "file_extension": ".py",
   "mimetype": "text/x-python",
   "name": "python",
   "nbconvert_exporter": "python",
   "pygments_lexer": "ipython3",
   "version": "3.11.4"
  }
 },
 "nbformat": 4,
 "nbformat_minor": 1
}
